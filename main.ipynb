{
 "cells": [
  {
   "cell_type": "code",
   "execution_count": null,
   "metadata": {},
   "outputs": [],
   "source": [
    "%config InlineBackend.figure_format = 'retina'"
   ]
  },
  {
   "cell_type": "markdown",
   "metadata": {},
   "source": [
    "# grid"
   ]
  },
  {
   "cell_type": "markdown",
   "metadata": {},
   "source": [
    "## preds"
   ]
  },
  {
   "cell_type": "code",
   "execution_count": null,
   "metadata": {},
   "outputs": [],
   "source": [
    "%run -n main\n",
    "task_tests = {\n",
    "    _: list(load_task(_, PUBLIC, TEST))\n",
    "    for _ in TASKS\n",
    "}"
   ]
  },
  {
   "cell_type": "code",
   "execution_count": null,
   "metadata": {
    "scrolled": false
   },
   "outputs": [],
   "source": [
    "%run -n main\n",
    "for conf in GRID_CONFS:\n",
    "    for task in TASKS:\n",
    "        exp_dir = find_grid_exp_dir(EXPS_DIR, conf.id, conf.model, task)\n",
    "        if not exp_dir:\n",
    "            continue\n",
    "\n",
    "        if not grid_exp_finised(exp_dir, task):\n",
    "            continue\n",
    "            \n",
    "        if grid_preds_exist(conf.id, task):\n",
    "            continue\n",
    "\n",
    "        log('id: %r, task: %r', conf.id, task)\n",
    "        preds = infer_jiant(exp_dir, task, task_tests[task], batch_size=16)\n",
    "        dump_grid_preds(conf.id, task, preds)"
   ]
  },
  {
   "cell_type": "markdown",
   "metadata": {},
   "source": [
    "## eval"
   ]
  },
  {
   "cell_type": "code",
   "execution_count": null,
   "metadata": {},
   "outputs": [],
   "source": [
    "%run -n main\n",
    "task_targets = {\n",
    "    _: list(load_task(_, PRIVATE, TEST))\n",
    "    for _ in TASKS\n",
    "}"
   ]
  },
  {
   "cell_type": "code",
   "execution_count": null,
   "metadata": {
    "scrolled": false
   },
   "outputs": [],
   "source": [
    "%run -n main\n",
    "conf_task_scores = []\n",
    "for conf in log_progress(GRID_CONFS):\n",
    "    for task in TASKS:\n",
    "        if grid_preds_exist(conf.id, task):\n",
    "            preds = list(load_grid_preds(conf.id, task))\n",
    "            metrics = eval(task, preds, task_targets[task])\n",
    "            score = select_score(task, metrics)\n",
    "            conf_task_scores.append([conf.id, task, score])"
   ]
  },
  {
   "cell_type": "markdown",
   "metadata": {},
   "source": [
    "## leaderboard"
   ]
  },
  {
   "cell_type": "code",
   "execution_count": null,
   "metadata": {},
   "outputs": [],
   "source": [
    "%run -n main\n",
    "records = parse_tsv(LEADERBOARD_LINES)\n",
    "leaderboard = list(parse_leaderboard(records))"
   ]
  },
  {
   "cell_type": "markdown",
   "metadata": {},
   "source": [
    "## show"
   ]
  },
  {
   "cell_type": "code",
   "execution_count": null,
   "metadata": {},
   "outputs": [],
   "source": [
    "%run -n main\n",
    "show_grid_scores(leaderboard, conf_task_scores)"
   ]
  },
  {
   "cell_type": "code",
   "execution_count": null,
   "metadata": {},
   "outputs": [],
   "source": []
  }
 ],
 "metadata": {
  "kernelspec": {
   "display_name": "Python 3",
   "language": "python",
   "name": "python3"
  },
  "language_info": {
   "codemirror_mode": {
    "name": "ipython",
    "version": 3
   },
   "file_extension": ".py",
   "mimetype": "text/x-python",
   "name": "python",
   "nbconvert_exporter": "python",
   "pygments_lexer": "ipython3",
   "version": "3.6.12"
  }
 },
 "nbformat": 4,
 "nbformat_minor": 2
}
